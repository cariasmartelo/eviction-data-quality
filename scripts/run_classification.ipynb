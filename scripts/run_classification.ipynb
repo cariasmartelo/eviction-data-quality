{
 "cells": [
  {
   "cell_type": "code",
   "execution_count": 67,
   "metadata": {},
   "outputs": [
    {
     "name": "stdout",
     "output_type": "stream",
     "text": [
      "The autoreload extension is already loaded. To reload it, use:\n",
      "  %reload_ext autoreload\n"
     ]
    }
   ],
   "source": [
    "%load_ext autoreload\n",
    "%autoreload 2"
   ]
  },
  {
   "cell_type": "code",
   "execution_count": 68,
   "metadata": {},
   "outputs": [],
   "source": [
    "import download\n",
    "import mlpipeline\n",
    "import helper"
   ]
  },
  {
   "cell_type": "code",
   "execution_count": 75,
   "metadata": {},
   "outputs": [],
   "source": [
    "params = {\n",
    "    'to_exclude': ['year', 'label'],\n",
    "    'top_x_percent': 0.1,\n",
    "    'date_col': 'filing_year',\n",
    "    'prediction_window': 12,\n",
    "    'start_time': '2010-01-01',\n",
    "    'end_time': '2016-01-01',\n",
    "    'len_train': 36,\n",
    "    'discrete_bins': 3,\n",
    "    'cats': ['low', 'medium', 'high'],\n",
    "    'outcome': 'label',\n",
    "    'model_params': {\n",
    "    'LR': {\n",
    "        'C': 10,\n",
    "        'class_weight': None,\n",
    "        'penalty': 'l2',\n",
    "        'fit_intercept': True,\n",
    "        'intercept_scaling': 1,\n",
    "        'max_iter': 100,\n",
    "        'multi_class': 'warn',\n",
    "        'n_jobs': None,\n",
    "        'random_state': 1234,\n",
    "        'solver': 'warn',\n",
    "        'tol': 0.0001,\n",
    "        'verbose': 0,\n",
    "        'warm_start': False}},\n",
    "    'RF': {\n",
    "        \n",
    "    }\n",
    "        }"
   ]
  },
  {
   "cell_type": "code",
   "execution_count": 13,
   "metadata": {},
   "outputs": [],
   "source": [
    "eviction = download.load_evict('../inputs/eviction_data_tract.csv')\n",
    "crime = download.load_crime('../inputs/crime_by_tract.csv')\n",
    "buildings = download.load_building('../inputs/building_violation_by_tract.csv')\n",
    "acs = download.load_acs('../inputs/acs_year_tract.csv')\n",
    "education = download.load_education('../inputs/educ_year_tract.csv')\n",
    "tracts = download.load_tract('../inputs/ch_opdat/tracts.csv')\n",
    "eviction_df = download.join_bases(eviction, acs, education, crime, buildings, tracts)"
   ]
  },
  {
   "cell_type": "code",
   "execution_count": 14,
   "metadata": {},
   "outputs": [],
   "source": [
    "eviction_df = mlpipeline.create_label(eviction_df, 'year', 'eviction_filings_rate', 1 - params['top_x_percent'],\n",
    "                                      params['prediction_window'])\n",
    "eviction_df = eviction_df.drop(['eviction_filings_rate_next_year', 'next_year'], axis = 1)"
   ]
  },
  {
   "cell_type": "code",
   "execution_count": 108,
   "metadata": {},
   "outputs": [],
   "source": [
    "train_set = eviction_df.loc[eviction_df['year'] != 2017].copy()\n",
    "test_set = eviction_df.loc[eviction_df['year'] == 2017].copy()"
   ]
  },
  {
   "cell_type": "code",
   "execution_count": 109,
   "metadata": {},
   "outputs": [],
   "source": [
    "cols_to_discretize = mlpipeline.get_continuous_variables(eviction_df)\n",
    "cols_to_binary = []\n",
    "for col in cols_to_discretize:\n",
    "     cols_to_binary.append(col + \"_group\")"
   ]
  },
  {
   "cell_type": "code",
   "execution_count": 110,
   "metadata": {},
   "outputs": [
    {
     "name": "stdout",
     "output_type": "stream",
     "text": [
      "perc_increase_total_crime_class_Violent Crime                             799\n",
      "perc_increase_total_crime_class_Property Crime                            797\n",
      "perc_increase_total_crime_class_Less serious offences_mean_by_commarea    796\n",
      "perc_increase_bv_mean_by_commarea                                         796\n",
      "perc_increase_bv                                                          796\n",
      "perc_increase_total_crime_class_Less serious offences                     796\n",
      "perc_increase_total_crime                                                 796\n",
      "perc_increase_total_crime_class_Violent Crime_mean_by_commarea            796\n",
      "perc_increase_total_crime_class_Property Crime_mean_by_commarea           796\n",
      "perc_increase_total_crime_mean_by_commarea                                796\n",
      "population_race_asian                                                      21\n",
      "population_race_latinx                                                     21\n",
      "population_race_other                                                      21\n",
      "race                                                                       21\n",
      "population_poverty_above                                                   21\n",
      "population_race_white                                                      21\n",
      "population_poverty_below                                                   21\n",
      "housing_units_other                                                        21\n",
      "housing_units_rental                                                       21\n",
      "population_race_black                                                      21\n",
      "total_primary_type_OFFENSE INVOLVING CHILDREN                               0\n",
      "total_primary_type_OTHER NARCOTIC VIOLATION                                 0\n",
      "total_primary_type_OTHER OFFENSE                                            0\n",
      "total_primary_type_PROSTITUTION                                             0\n",
      "total_primary_type_PUBLIC INDECENCY                                         0\n",
      "label_prev_year                                                             0\n",
      "total_primary_type_ROBBERY                                                  0\n",
      "total_primary_type_OBSCENITY                                                0\n",
      "total_primary_type_CRIMINAL DAMAGE                                          0\n",
      "total_primary_type_CRIMINAL TRESPASS                                        0\n",
      "                                                                         ... \n",
      "total_crime_mean_by_commarea                                                0\n",
      "pop_over_25_mean_by_commarea                                                0\n",
      "county_mean_by_commarea                                                     0\n",
      "graduate_mean_by_commarea                                                   0\n",
      "bachelor_mean_by_commarea                                                   0\n",
      "associate_mean_by_commarea                                                  0\n",
      "some_college_mean_by_commarea                                               0\n",
      "high_school_grad_mean_by_commarea                                           0\n",
      "not_highschool_grad_mean_by_commarea                                        0\n",
      "up_to_middle_mean_by_commarea                                               0\n",
      "population_race_other_mean_by_commarea                                      0\n",
      "population_race_asian_mean_by_commarea                                      0\n",
      "population_race_latinx_mean_by_commarea                                     0\n",
      "population_race_white_mean_by_commarea                                      0\n",
      "ftu_other_outcome_tenant_represented_mean_by_commarea                       0\n",
      "population_poverty_above_mean_by_commarea                                   0\n",
      "population_poverty_below_mean_by_commarea                                   0\n",
      "population_total_mean_by_commarea                                           0\n",
      "median_rent_mean_by_commarea                                                0\n",
      "housing_units_other_mean_by_commarea                                        0\n",
      "housing_units_rental_mean_by_commarea                                       0\n",
      "housing_units_total_mean_by_commarea                                        0\n",
      "default_eviction_order_no_tenant_represented_mean_by_commarea               0\n",
      "default_eviction_order_yes_tenant_represented_mean_by_commarea              0\n",
      "default_eviction_order_no_tenant_prose_mean_by_commarea                     0\n",
      "default_eviction_order_yes_tenant_prose_mean_by_commarea                    0\n",
      "default_eviction_order_no_mean_by_commarea                                  0\n",
      "default_eviction_order_yes_mean_by_commarea                                 0\n",
      "ftu_no_outcome_tenant_represented_mean_by_commarea                          0\n",
      "filing_year                                                                 0\n",
      "Length: 282, dtype: int64\n",
      "Can't fill missing values for non-numeric column race\n"
     ]
    }
   ],
   "source": [
    "process_train = mlpipeline.process_df(train_set, cols_to_discretize, params['discrete_bins'],\n",
    "                                      params['cats'], cols_to_binary)"
   ]
  },
  {
   "cell_type": "code",
   "execution_count": 111,
   "metadata": {},
   "outputs": [],
   "source": [
    "selected_features = list(process_train.loc[:,process_train.apply(lambda x: x.isin([0, 1]).all())].columns)\n",
    "selected_features.remove('label')\n",
    "predictors = selected_features"
   ]
  },
  {
   "cell_type": "code",
   "execution_count": 112,
   "metadata": {},
   "outputs": [
    {
     "name": "stdout",
     "output_type": "stream",
     "text": [
      "race                                                              4\n",
      "housing_units_other                                               4\n",
      "population_race_asian                                             4\n",
      "population_race_latinx                                            4\n",
      "population_race_black                                             4\n",
      "population_race_white                                             4\n",
      "population_poverty_above                                          4\n",
      "population_poverty_below                                          4\n",
      "population_race_other                                             4\n",
      "housing_units_rental                                              4\n",
      "perc_increase_total_crime_class_Violent Crime                     1\n",
      "total_primary_type_WEAPONS VIOLATION                              0\n",
      "total_primary_type_OTHER OFFENSE                                  0\n",
      "total_primary_type_PUBLIC INDECENCY                               0\n",
      "total_primary_type_PUBLIC PEACE VIOLATION                         0\n",
      "total_primary_type_ROBBERY                                        0\n",
      "total_primary_type_SEX OFFENSE                                    0\n",
      "total_primary_type_STALKING                                       0\n",
      "total_primary_type_PROSTITUTION                                   0\n",
      "label_prev_year                                                   0\n",
      "total_primary_type_OTHER NARCOTIC VIOLATION                       0\n",
      "total_primary_type_OFFENSE INVOLVING CHILDREN                     0\n",
      "total_primary_type_CRIMINAL TRESPASS                              0\n",
      "total_primary_type_DECEPTIVE PRACTICE                             0\n",
      "total_primary_type_GAMBLING                                       0\n",
      "total_primary_type_HOMICIDE                                       0\n",
      "total_primary_type_HUMAN TRAFFICKING                              0\n",
      "total_primary_type_INTERFERENCE WITH PUBLIC OFFICER               0\n",
      "total_primary_type_INTIMIDATION                                   0\n",
      "total_primary_type_KIDNAPPING                                     0\n",
      "                                                                 ..\n",
      "high_school_grad_mean_by_commarea                                 0\n",
      "some_college_mean_by_commarea                                     0\n",
      "associate_mean_by_commarea                                        0\n",
      "bachelor_mean_by_commarea                                         0\n",
      "county_mean_by_commarea                                           0\n",
      "default_eviction_order_yes_mean_by_commarea                       0\n",
      "pop_over_25_mean_by_commarea                                      0\n",
      "total_crime_mean_by_commarea                                      0\n",
      "total_crime_class_Less serious offences_mean_by_commarea          0\n",
      "total_crime_class_Property Crime_mean_by_commarea                 0\n",
      "total_crime_class_Violent Crime_mean_by_commarea                  0\n",
      "total_primary_type_ARSON_mean_by_commarea                         0\n",
      "population_race_other_mean_by_commarea                            0\n",
      "population_race_asian_mean_by_commarea                            0\n",
      "population_race_latinx_mean_by_commarea                           0\n",
      "population_race_black_mean_by_commarea                            0\n",
      "population_race_white_mean_by_commarea                            0\n",
      "population_poverty_above_mean_by_commarea                         0\n",
      "population_poverty_below_mean_by_commarea                         0\n",
      "population_total_mean_by_commarea                                 0\n",
      "median_rent_mean_by_commarea                                      0\n",
      "housing_units_other_mean_by_commarea                              0\n",
      "housing_units_rental_mean_by_commarea                             0\n",
      "housing_units_total_mean_by_commarea                              0\n",
      "default_eviction_order_no_tenant_represented_mean_by_commarea     0\n",
      "default_eviction_order_yes_tenant_represented_mean_by_commarea    0\n",
      "default_eviction_order_no_tenant_prose_mean_by_commarea           0\n",
      "default_eviction_order_yes_tenant_prose_mean_by_commarea          0\n",
      "default_eviction_order_no_mean_by_commarea                        0\n",
      "filing_year                                                       0\n",
      "Length: 282, dtype: int64\n",
      "Can't fill missing values for non-numeric column race\n"
     ]
    }
   ],
   "source": [
    "process_test = mlpipeline.process_df(test_set, cols_to_discretize, params['discrete_bins'],\n",
    "                                      params['cats'], cols_to_binary)"
   ]
  },
  {
   "cell_type": "code",
   "execution_count": 113,
   "metadata": {},
   "outputs": [],
   "source": [
    "x_train = process_train[selected_features]\n",
    "y_train = process_train['label']\n",
    "x_test = process_test[selected_features]"
   ]
  },
  {
   "cell_type": "code",
   "execution_count": 137,
   "metadata": {},
   "outputs": [
    {
     "name": "stderr",
     "output_type": "stream",
     "text": [
      "/anaconda3/lib/python3.6/site-packages/sklearn/linear_model/logistic.py:433: FutureWarning: Default solver will be changed to 'lbfgs' in 0.22. Specify a solver to silence this warning.\n",
      "  FutureWarning)\n"
     ]
    }
   ],
   "source": [
    "lr_pred = mlpipeline.run_model(x_train, y_train, x_test, params['model_to_run'],\n",
    "                               params['model_params'][params['model_to_run']])"
   ]
  },
  {
   "cell_type": "code",
   "execution_count": 158,
   "metadata": {},
   "outputs": [],
   "source": [
    "from sklearn.linear_model import LogisticRegression\n",
    "from sklearn.ensemble import RandomForestClassifier"
   ]
  },
  {
   "cell_type": "code",
   "execution_count": 172,
   "metadata": {},
   "outputs": [
    {
     "name": "stderr",
     "output_type": "stream",
     "text": [
      "/anaconda3/lib/python3.6/site-packages/sklearn/linear_model/logistic.py:433: FutureWarning: Default solver will be changed to 'lbfgs' in 0.22. Specify a solver to silence this warning.\n",
      "  FutureWarning)\n"
     ]
    }
   ],
   "source": [
    "clf_lr = LogisticRegression(C= 10,\n",
    "                        class_weight= None,\n",
    "                        penalty= 'l2',\n",
    "                        fit_intercept= True,\n",
    "                        intercept_scaling= 1,\n",
    "                        max_iter= 100,\n",
    "                        multi_class= 'warn',\n",
    "                        n_jobs= None,\n",
    "                        random_state= 1234,\n",
    "                        solver= 'warn',\n",
    "                        tol= 0.0001,\n",
    "                        verbose= 0,\n",
    "                        warm_start= False)\n",
    "clf_lr.fit(x_train, y_train)\n",
    "y_pred_probs = clf.predict_proba(x_test)\n",
    "test_set['predicted_lr_score'] = y_pred_probs[:,1]\n",
    "test_set.sort_values('predicted_lr_score', inplace=True, ascending=False)\n",
    "test_set['prediction_lr'] = helper.generate_binary_at_k(test_set['predicted_lr_score'], 10)\n",
    "\n",
    "clf_rf = RandomForestClassifier(bootstrap=True,\n",
    "                             class_weight=None,\n",
    "                             criterion='gini',\n",
    "                             max_depth=50,\n",
    "                             max_features='log2',\n",
    "                             max_leaf_nodes=None,\n",
    "                             min_impurity_decrease=0.0,\n",
    "                             min_impurity_split=None,\n",
    "                             min_samples_leaf=1,\n",
    "                             min_samples_split=10,\n",
    "                             min_weight_fraction_leaf=0.0,\n",
    "                             n_estimators=10000,\n",
    "                             n_jobs=-1,\n",
    "                             oob_score=False,\n",
    "                             random_state=None,\n",
    "                             verbose=0,\n",
    "                             warm_start=False)\n",
    "\n",
    "clf_rf.fit(x_train, y_train)\n",
    "y_pred_probs = clf.predict_proba(x_test)\n",
    "test_set['predicted_rf_score'] = y_pred_probs[:,1]\n",
    "test_set.sort_values('predicted_rf_score', inplace=True, ascending=False)\n",
    "test_set['prediction_rf'] = helper.generate_binary_at_k(test_set['predicted_rf_score'], 10)"
   ]
  },
  {
   "cell_type": "code",
   "execution_count": 173,
   "metadata": {},
   "outputs": [
    {
     "data": {
      "text/html": [
       "<div>\n",
       "<style scoped>\n",
       "    .dataframe tbody tr th:only-of-type {\n",
       "        vertical-align: middle;\n",
       "    }\n",
       "\n",
       "    .dataframe tbody tr th {\n",
       "        vertical-align: top;\n",
       "    }\n",
       "\n",
       "    .dataframe thead th {\n",
       "        text-align: right;\n",
       "    }\n",
       "</style>\n",
       "<table border=\"1\" class=\"dataframe\">\n",
       "  <thead>\n",
       "    <tr style=\"text-align: right;\">\n",
       "      <th></th>\n",
       "      <th>prediction_rf</th>\n",
       "      <th>prediction_lr</th>\n",
       "    </tr>\n",
       "  </thead>\n",
       "  <tbody>\n",
       "    <tr>\n",
       "      <th>count</th>\n",
       "      <td>799.000000</td>\n",
       "      <td>799.000000</td>\n",
       "    </tr>\n",
       "    <tr>\n",
       "      <th>mean</th>\n",
       "      <td>0.098874</td>\n",
       "      <td>0.098874</td>\n",
       "    </tr>\n",
       "    <tr>\n",
       "      <th>std</th>\n",
       "      <td>0.298679</td>\n",
       "      <td>0.298679</td>\n",
       "    </tr>\n",
       "    <tr>\n",
       "      <th>min</th>\n",
       "      <td>0.000000</td>\n",
       "      <td>0.000000</td>\n",
       "    </tr>\n",
       "    <tr>\n",
       "      <th>25%</th>\n",
       "      <td>0.000000</td>\n",
       "      <td>0.000000</td>\n",
       "    </tr>\n",
       "    <tr>\n",
       "      <th>50%</th>\n",
       "      <td>0.000000</td>\n",
       "      <td>0.000000</td>\n",
       "    </tr>\n",
       "    <tr>\n",
       "      <th>75%</th>\n",
       "      <td>0.000000</td>\n",
       "      <td>0.000000</td>\n",
       "    </tr>\n",
       "    <tr>\n",
       "      <th>max</th>\n",
       "      <td>1.000000</td>\n",
       "      <td>1.000000</td>\n",
       "    </tr>\n",
       "  </tbody>\n",
       "</table>\n",
       "</div>"
      ],
      "text/plain": [
       "       prediction_rf  prediction_lr\n",
       "count     799.000000     799.000000\n",
       "mean        0.098874       0.098874\n",
       "std         0.298679       0.298679\n",
       "min         0.000000       0.000000\n",
       "25%         0.000000       0.000000\n",
       "50%         0.000000       0.000000\n",
       "75%         0.000000       0.000000\n",
       "max         1.000000       1.000000"
      ]
     },
     "execution_count": 173,
     "metadata": {},
     "output_type": "execute_result"
    }
   ],
   "source": [
    "test_set[['prediction_rf', 'prediction_lr']].describe()"
   ]
  },
  {
   "cell_type": "code",
   "execution_count": 174,
   "metadata": {},
   "outputs": [],
   "source": [
    "test_set[['tract', 'year', 'prediction_lr', 'prediction_rf']].to_csv('../results/rf_lr_results.csv')"
   ]
  },
  {
   "cell_type": "code",
   "execution_count": 204,
   "metadata": {},
   "outputs": [
    {
     "data": {
      "image/png": "[encoded data removed]",
      "text/plain": [
       "<Figure size 432x288 with 1 Axes>"
      ]
     },
     "metadata": {
      "needs_background": "light"
     },
     "output_type": "display_data"
    }
   ],
   "source": [
    "import matplotlib.pyplot as plt\n",
    "test_set['predicted_lr_score'].hist()\n",
    "plt.title('LR predited histograms')\n",
    "plt.savefig('../figures/y_pred_hist_lr.png')"
   ]
  },
  {
   "cell_type": "code",
   "execution_count": 202,
   "metadata": {},
   "outputs": [
    {
     "data": {
      "image/png": "[encoded data removed]",
      "text/plain": [
       "<Figure size 432x288 with 1 Axes>"
      ]
     },
     "metadata": {
      "needs_background": "light"
     },
     "output_type": "display_data"
    }
   ],
   "source": [
    "import matplotlib.pyplot as plt\n",
    "test_set['predicted_rf_score'].hist()\n",
    "plt.title('RF predited histograms')\n",
    "plt.savefig('../figures/y_pred_hist_rf.png')"
   ]
  },
  {
   "cell_type": "code",
   "execution_count": 213,
   "metadata": {},
   "outputs": [
    {
     "name": "stdout",
     "output_type": "stream",
     "text": [
      "FEATURE IMPORTANCES\n",
      "\n",
      "1. Feature population_race_white_mean_by_commarea_group_low (1.000000)\n",
      "2. Feature total_violation_status_COMPLIED_perc_mean_by_commarea_group_medium (0.769346)\n",
      "3. Feature housing_units_total_mean_by_commarea_group_low (0.760312)\n",
      "4. Feature population_race_white_mean_by_commarea_group_high (0.726441)\n",
      "5. Feature total_violation_status_OPEN_perc_mean_by_commarea_group_medium (0.692932)\n",
      "6. Feature population_total_mean_by_commarea_group_medium (0.625469)\n",
      "7. Feature total_primary_type_BATTERY_mean_by_commarea_group_medium (0.623902)\n",
      "8. Feature total_primary_type_BATTERY_mean_by_commarea_group_low (0.560313)\n",
      "9. Feature perc_total_crime_class_Less serious offences_mean_by_commarea_group_low (0.525431)\n",
      "10. Feature total_violation_status_COMPLIED_perc_mean_by_commarea_group_high (0.508405)\n"
     ]
    },
    {
     "data": {
      "text/plain": [
       "<Figure size 432x288 with 0 Axes>"
      ]
     },
     "metadata": {},
     "output_type": "display_data"
    },
    {
     "data": {
      "image/png": "[encoded data removed]",
      "text/plain": [
       "<Figure size 432x288 with 1 Axes>"
      ]
     },
     "metadata": {
      "needs_background": "light"
     },
     "output_type": "display_data"
    }
   ],
   "source": [
    "mlpipeline.get_feature_importance('LR', x_train, clf_lr, n_importances=10)"
   ]
  },
  {
   "cell_type": "code",
   "execution_count": 177,
   "metadata": {},
   "outputs": [
    {
     "name": "stdout",
     "output_type": "stream",
     "text": [
      "FEATURE IMPORTANCES\n",
      "\n",
      "1. Feature label_prev_year (0.037739)\n",
      "2. Feature population_race_black_group_high (0.012656)\n",
      "3. Feature eviction_filings_rate_group_low (0.011622)\n",
      "4. Feature eviction_filings_rate_mean_by_commarea_group_low (0.010873)\n",
      "5. Feature eviction_filings_rate_mean_by_commarea_group_medium (0.010217)\n",
      "6. Feature population_race_black_mean_by_commarea_group_high (0.009792)\n",
      "7. Feature population_race_black_group_low (0.009608)\n",
      "8. Feature eviction_filings_rate_group_medium (0.009155)\n",
      "9. Feature population_race_black_mean_by_commarea_group_low (0.007535)\n",
      "10. Feature total_primary_type_BATTERY_mean_by_commarea_group_low (0.007222)\n"
     ]
    },
    {
     "data": {
      "text/plain": [
       "<Figure size 432x288 with 0 Axes>"
      ]
     },
     "metadata": {},
     "output_type": "display_data"
    },
    {
     "data": {
      "image/png": "[encoded data removed]",
      "text/plain": [
       "<Figure size 432x288 with 1 Axes>"
      ]
     },
     "metadata": {
      "needs_background": "light"
     },
     "output_type": "display_data"
    }
   ],
   "source": [
    "mlpipeline.get_feature_importance('RF', x_train, clf_rf, n_importances=10)"
   ]
  },
  {
   "cell_type": "code",
   "execution_count": 209,
   "metadata": {},
   "outputs": [],
   "source": [
    "predicted_tracts = test_set.loc[test_set['prediction_lr'] == 1, 'tract'].copy()"
   ]
  }
 ],
 "metadata": {
  "kernelspec": {
   "display_name": "Python 3",
   "language": "python",
   "name": "python3"
  },
  "language_info": {
   "codemirror_mode": {
    "name": "ipython",
    "version": 3
   },
   "file_extension": ".py",
   "mimetype": "text/x-python",
   "name": "python",
   "nbconvert_exporter": "python",
   "pygments_lexer": "ipython3",
   "version": "3.6.7"
  }
 },
 "nbformat": 4,
 "nbformat_minor": 2
}
